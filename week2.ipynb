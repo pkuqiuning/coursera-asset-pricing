{
 "metadata": {
  "name": "",
  "signature": "sha256:9be325d7e47beb4170d09d7bc0c480690440c9b4164f20b513fc3fe68f83dfaa"
 },
 "nbformat": 3,
 "nbformat_minor": 0,
 "worksheets": [
  {
   "cells": [
    {
     "cell_type": "code",
     "collapsed": false,
     "input": [
      "%pylab inline\n",
      "import pandas as pd\n",
      "import statsmodels.api as sm\n",
      "import statsmodels.formula.api as smf\n",
      "import scipy.stats as stats\n",
      "\n",
      "\n",
      "from functools import reduce\n",
      "from operator import *"
     ],
     "language": "python",
     "metadata": {},
     "outputs": [
      {
       "output_type": "stream",
       "stream": "stdout",
       "text": [
        "Populating the interactive namespace from numpy and matplotlib\n"
       ]
      },
      {
       "output_type": "stream",
       "stream": "stderr",
       "text": [
        "WARNING: pylab import has clobbered these variables: ['mod', 'inv', 'invert', 'add']\n",
        "`%matplotlib` prevents importing * from pylab and numpy\n"
       ]
      }
     ],
     "prompt_number": 2
    },
    {
     "cell_type": "markdown",
     "metadata": {},
     "source": [
      "$$\n",
      "x_t = \\phi x_{t-1} + \\epsilon_t \\\\\n",
      "r_{t+1} = x_t + \\delta_{t+1}\n",
      "$$\n",
      "\n",
      "$\n",
      "\u03c3_\u03b5=0.018, \u03d5=0.94, \u03c3_\u03b4=0.18 \\\\\n",
      "\u03c1(\\epsilon_t, \\delta_t)=\u2212\\frac{\u03d5}{1\u2212\u03d5^2} \\frac{\u03c3_\u03b5}{\u03c3_\u03b4} = \u22120.80756\n",
      "$\n"
     ]
    },
    {
     "cell_type": "code",
     "collapsed": false,
     "input": [
      "phi = .94\n",
      "s_e = .018\n",
      "s_d = .18\n",
      "rho = - phi/(1-phi**2) * s_e / s_d"
     ],
     "language": "python",
     "metadata": {},
     "outputs": [],
     "prompt_number": 3
    },
    {
     "cell_type": "markdown",
     "metadata": {},
     "source": [
      "\n",
      "We have:\n",
      "$$\n",
      "x_{t+j} = \\phi^j \\epsilon_t + \\phi^{j-1} \\epsilon_{t+1} + ... + \\epsilon_{t+j} \\\\\n",
      "Var[x_{t+j}] = \\frac{1-\\phi^{2j}}{1-\\phi^2} \\sigma^2_\\epsilon \n",
      "\\to \\frac{\\sigma^2_\\epsilon}{1-\\phi^2}  \\\\\n",
      "$$\n",
      "\n",
      "$\n",
      "E[x_t] = 0 \\\\\n",
      "Cov[x_t, r_{t+1}] = Var[x_t] \\\\\n",
      "b = \\frac{Cov[x_t, r_{t+1}]}{Var[x_t]} = 1 \\\\\n",
      "a = E[r_{t+1}] - b E[x_t] = 0 \\\\\n",
      "$\n",
      "\n",
      "$\n",
      "Var_{reg} = Var[a + b x_t] = b^2 Var[x_t] = b^2 \\frac{\\sigma^2_\\epsilon}{1-\\phi^2} \\\\\n",
      "Var_{tot} = Var[r_{t+1}] = Var[x_t] + \\sigma^2_\\delta\n",
      "= \\frac{\\sigma^2_\\epsilon}{1-\\phi^2} + \\sigma^2_\\delta\n",
      "$\n"
     ]
    },
    {
     "cell_type": "code",
     "collapsed": false,
     "input": [
      "b=1.\n",
      "a=0\n",
      "var_reg = b**2 * s_e**2 / (1 - phi**2)\n",
      "var_tot = s_d**2 + s_e**2 / (1 - phi**2)\n",
      "s_reg = sqrt(var_reg)\n",
      "s_tot = sqrt(var_tot)\n",
      "Rsquare = var_reg / var_tot\n",
      "print('{:.3} {:.3} {:.3} {:.3}'.format(b, s_reg, s_tot, Rsquare))"
     ],
     "language": "python",
     "metadata": {},
     "outputs": [
      {
       "output_type": "stream",
       "stream": "stdout",
       "text": [
        "1.0 0.0528 0.188 0.0791\n"
       ]
      }
     ],
     "prompt_number": 4
    },
    {
     "cell_type": "code",
     "collapsed": false,
     "input": [
      "N=10**6\n",
      "sigmas = diag([s_e, s_d])\n",
      "cov_matrix = sigmas.dot(array([[1, rho],[rho, 1]])).dot(sigmas)\n",
      "err = stats.multivariate_normal.rvs(cov=cov_matrix, size=N)\n",
      "x = empty(N)\n",
      "x[0] = 0\n",
      "t = range(0, N)\n",
      "for i in range(1,N):\n",
      "    x[i] = x[i-1] * phi + err[i-1, 0]\n",
      "r = x + err[:, 1]\n",
      "\n",
      "res = smf.ols('r~x', dict(r=r,x=x)).fit()\n",
      "def summarize_fit(res):\n",
      "    '''RegressionResults -> [b, std(y_fit), std(y), R^2]\n",
      "    \n",
      "    '''\n",
      "    ans = [res.params[1],\n",
      "           res.fittedvalues.std(),\n",
      "           std(res.model.endog),\n",
      "           #res.tvalues[1],\n",
      "           res.rsquared, \n",
      "           #100 * res.fittedvalues.mean(),\n",
      "           #sqrt(res.scale),\n",
      "           ]\n",
      "    return ans\n",
      "\n",
      "summarize_fit(res)"
     ],
     "language": "python",
     "metadata": {},
     "outputs": [
      {
       "metadata": {},
       "output_type": "pyout",
       "prompt_number": 5,
       "text": [
        "[0.99916026813395731,\n",
        " 0.052741667058124962,\n",
        " 0.18753388654147654,\n",
        " 0.07909476916613345]"
       ]
      }
     ],
     "prompt_number": 5
    },
    {
     "cell_type": "code",
     "collapsed": false,
     "input": [
      "r5 = reduce(add, [r[i:i-5] for i in range(5)])\n",
      "x5 = x[:-5]\n",
      "res5 = smf.ols('r5 ~ x5', dict(r5=r5, x5=x5)).fit()\n",
      "summarize_fit(res5)"
     ],
     "language": "python",
     "metadata": {},
     "outputs": [
      {
       "metadata": {},
       "output_type": "pyout",
       "prompt_number": 6,
       "text": [
        "[4.4295325453959542,\n",
        " 0.23381674612747583,\n",
        " 0.41946493323445899,\n",
        " 0.31071303291267605]"
       ]
      }
     ],
     "prompt_number": 6
    },
    {
     "cell_type": "markdown",
     "metadata": {},
     "source": [
      "$ b = \\frac{1-\\phi^K}{1-\\phi}$"
     ]
    },
    {
     "cell_type": "code",
     "collapsed": false,
     "input": [
      "b5_fit = res5.params[1]\n",
      "b5=(1-phi**5)/(1-phi)\n",
      "b5"
     ],
     "language": "python",
     "metadata": {},
     "outputs": [
      {
       "metadata": {},
       "output_type": "pyout",
       "prompt_number": 7,
       "text": [
        "4.43493296"
       ]
      }
     ],
     "prompt_number": 7
    },
    {
     "cell_type": "code",
     "collapsed": false,
     "input": [
      "M = 100\n",
      "figure()\n",
      "plot(t[:M], x[:M], 'r', t[:M], r[:M], 'o-')\n",
      "figure()\n",
      "plot(t[:M], b5_fit*x[:M], 'r', t[:M], r5[:M], '.-')"
     ],
     "language": "python",
     "metadata": {},
     "outputs": [
      {
       "metadata": {},
       "output_type": "pyout",
       "prompt_number": 8,
       "text": [
        "[<matplotlib.lines.Line2D at 0x7f30df6469e8>,\n",
        " <matplotlib.lines.Line2D at 0x7f30df646d68>]"
       ]
      },
      {
       "metadata": {},
       "output_type": "display_data",
       "png": "[encoded data removed]",
       "text": [
        "<matplotlib.figure.Figure at 0x7f30df6e9f60>"
       ]
      },
      {
       "metadata": {},
       "output_type": "display_data",
       "png": "[encoded data removed]",
       "text": [
        "<matplotlib.figure.Figure at 0x7f30df6f07b8>"
       ]
      }
     ],
     "prompt_number": 8
    },
    {
     "cell_type": "code",
     "collapsed": false,
     "input": [
      "res5.summary()"
     ],
     "language": "python",
     "metadata": {},
     "outputs": [
      {
       "html": [
        "<table class=\"simpletable\">\n",
        "<caption>OLS Regression Results</caption>\n",
        "<tr>\n",
        "  <th>Dep. Variable:</th>           <td>r5</td>        <th>  R-squared:         </th>  <td>   0.311</td>  \n",
        "</tr>\n",
        "<tr>\n",
        "  <th>Model:</th>                   <td>OLS</td>       <th>  Adj. R-squared:    </th>  <td>   0.311</td>  \n",
        "</tr>\n",
        "<tr>\n",
        "  <th>Method:</th>             <td>Least Squares</td>  <th>  F-statistic:       </th>  <td>4.508e+05</td> \n",
        "</tr>\n",
        "<tr>\n",
        "  <th>Date:</th>             <td>Fri, 30 Jan 2015</td> <th>  Prob (F-statistic):</th>   <td>  0.00</td>   \n",
        "</tr>\n",
        "<tr>\n",
        "  <th>Time:</th>                 <td>16:15:02</td>     <th>  Log-Likelihood:    </th> <td>-3.6411e+05</td>\n",
        "</tr>\n",
        "<tr>\n",
        "  <th>No. Observations:</th>      <td>999995</td>      <th>  AIC:               </th>  <td>7.282e+05</td> \n",
        "</tr>\n",
        "<tr>\n",
        "  <th>Df Residuals:</th>          <td>999993</td>      <th>  BIC:               </th>  <td>7.283e+05</td> \n",
        "</tr>\n",
        "<tr>\n",
        "  <th>Df Model:</th>              <td>     1</td>      <th>                     </th>      <td> </td>     \n",
        "</tr>\n",
        "<tr>\n",
        "  <th>Covariance Type:</th>      <td>nonrobust</td>    <th>                     </th>      <td> </td>     \n",
        "</tr>\n",
        "</table>\n",
        "<table class=\"simpletable\">\n",
        "<tr>\n",
        "      <td></td>         <th>coef</th>     <th>std err</th>      <th>t</th>      <th>P>|t|</th> <th>[95.0% Conf. Int.]</th> \n",
        "</tr>\n",
        "<tr>\n",
        "  <th>Intercept</th> <td>    0.0005</td> <td>    0.000</td> <td>    1.488</td> <td> 0.137</td> <td>   -0.000     0.001</td>\n",
        "</tr>\n",
        "<tr>\n",
        "  <th>x5</th>        <td>    4.4295</td> <td>    0.007</td> <td>  671.395</td> <td> 0.000</td> <td>    4.417     4.442</td>\n",
        "</tr>\n",
        "</table>\n",
        "<table class=\"simpletable\">\n",
        "<tr>\n",
        "  <th>Omnibus:</th>       <td> 4.529</td> <th>  Durbin-Watson:     </th> <td>   0.420</td>\n",
        "</tr>\n",
        "<tr>\n",
        "  <th>Prob(Omnibus):</th> <td> 0.104</td> <th>  Jarque-Bera (JB):  </th> <td>   4.514</td>\n",
        "</tr>\n",
        "<tr>\n",
        "  <th>Skew:</th>          <td>-0.003</td> <th>  Prob(JB):          </th> <td>   0.105</td>\n",
        "</tr>\n",
        "<tr>\n",
        "  <th>Kurtosis:</th>      <td> 2.991</td> <th>  Cond. No.          </th> <td>    18.9</td>\n",
        "</tr>\n",
        "</table>"
       ],
       "metadata": {},
       "output_type": "pyout",
       "prompt_number": 9,
       "text": [
        "<class 'statsmodels.iolib.summary.Summary'>\n",
        "\"\"\"\n",
        "                            OLS Regression Results                            \n",
        "==============================================================================\n",
        "Dep. Variable:                     r5   R-squared:                       0.311\n",
        "Model:                            OLS   Adj. R-squared:                  0.311\n",
        "Method:                 Least Squares   F-statistic:                 4.508e+05\n",
        "Date:                Fri, 30 Jan 2015   Prob (F-statistic):               0.00\n",
        "Time:                        16:15:02   Log-Likelihood:            -3.6411e+05\n",
        "No. Observations:              999995   AIC:                         7.282e+05\n",
        "Df Residuals:                  999993   BIC:                         7.283e+05\n",
        "Df Model:                           1                                         \n",
        "Covariance Type:            nonrobust                                         \n",
        "==============================================================================\n",
        "                 coef    std err          t      P>|t|      [95.0% Conf. Int.]\n",
        "------------------------------------------------------------------------------\n",
        "Intercept      0.0005      0.000      1.488      0.137        -0.000     0.001\n",
        "x5             4.4295      0.007    671.395      0.000         4.417     4.442\n",
        "==============================================================================\n",
        "Omnibus:                        4.529   Durbin-Watson:                   0.420\n",
        "Prob(Omnibus):                  0.104   Jarque-Bera (JB):                4.514\n",
        "Skew:                          -0.003   Prob(JB):                        0.105\n",
        "Kurtosis:                       2.991   Cond. No.                         18.9\n",
        "==============================================================================\n",
        "\n",
        "Warnings:\n",
        "[1] Standard Errors assume that the covariance matrix of the errors is correctly specified.\n",
        "\"\"\""
       ]
      }
     ],
     "prompt_number": 9
    },
    {
     "cell_type": "code",
     "collapsed": false,
     "input": [
      "rres = smf.ols('r ~ rlag', data=dict(r=r[:-1], rlag=r[1:])).fit()\n",
      "summarize_fit(rres)"
     ],
     "language": "python",
     "metadata": {},
     "outputs": [
      {
       "metadata": {},
       "output_type": "pyout",
       "prompt_number": 10,
       "text": [
        "[0.0004447796312090358,\n",
        " 8.3411333666090693e-05,\n",
        " 0.18753397995580354,\n",
        " 1.9782886828689783e-07]"
       ]
      }
     ],
     "prompt_number": 10
    },
    {
     "cell_type": "code",
     "collapsed": false,
     "input": [],
     "language": "python",
     "metadata": {},
     "outputs": [],
     "prompt_number": 10
    },
    {
     "cell_type": "code",
     "collapsed": false,
     "input": [
      "a[:-1]"
     ],
     "language": "python",
     "metadata": {},
     "outputs": [
      {
       "ename": "TypeError",
       "evalue": "'int' object is not subscriptable",
       "output_type": "pyerr",
       "traceback": [
        "\u001b[1;31m---------------------------------------------------------------------------\u001b[0m\n\u001b[1;31mTypeError\u001b[0m                                 Traceback (most recent call last)",
        "\u001b[1;32m<ipython-input-11-ad82014b577b>\u001b[0m in \u001b[0;36m<module>\u001b[1;34m()\u001b[0m\n\u001b[1;32m----> 1\u001b[1;33m \u001b[0ma\u001b[0m\u001b[1;33m[\u001b[0m\u001b[1;33m:\u001b[0m\u001b[1;33m-\u001b[0m\u001b[1;36m1\u001b[0m\u001b[1;33m]\u001b[0m\u001b[1;33m\u001b[0m\u001b[0m\n\u001b[0m",
        "\u001b[1;31mTypeError\u001b[0m: 'int' object is not subscriptable"
       ]
      }
     ],
     "prompt_number": 11
    },
    {
     "cell_type": "code",
     "collapsed": false,
     "input": [
      "len(r)"
     ],
     "language": "python",
     "metadata": {},
     "outputs": []
    },
    {
     "cell_type": "code",
     "collapsed": false,
     "input": [
      "len(x)"
     ],
     "language": "python",
     "metadata": {},
     "outputs": []
    },
    {
     "cell_type": "code",
     "collapsed": false,
     "input": [
      "len(err)"
     ],
     "language": "python",
     "metadata": {},
     "outputs": []
    },
    {
     "cell_type": "code",
     "collapsed": false,
     "input": [],
     "language": "python",
     "metadata": {},
     "outputs": []
    }
   ],
   "metadata": {}
  }
 ]
}